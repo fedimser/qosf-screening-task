{
 "cells": [
  {
   "cell_type": "markdown",
   "id": "e76a2063",
   "metadata": {},
   "source": [
    "# Screening Task for QOSF Mentorship Program\n",
    "\n",
    "*Dmytro Fedoriaka, October 2025.*\n",
    "\n",
    "This is my solution to a screening task of cohort 11 of the [Quantum Open Source Foundation](https://qosf.org/) Mentoship Program.\n",
    "\n",
    "I chose Task 1, \"Gate Tomography\".\n",
    "\n",
    "## Problem statement\n",
    "\n",
    "Given the circuit\n",
    " \n",
    "<img src=\"circuit1.png\" width=600  />\n",
    "\n",
    "and the definition of $U3$ gate\n",
    "\n",
    "$$\n",
    "U3(\\theta, \\phi, \\lambda) = \n",
    "\\begin{pmatrix}\n",
    "\\cos(\\frac{\\theta}{2}) & -e^{i \\lambda} \\sin(\\frac{\\theta}{2})  \\\\\n",
    "e^{i \\phi} \\sin(\\frac{\\theta}{2}) & e^{i (\\phi + \\lambda)} \\cos(\\frac{\\theta}{2})  \\\\\n",
    "\\end{pmatrix},\n",
    "$$\n",
    "\n",
    "find the parameters $\\theta_1, \\phi_1, \\lambda_1, \\theta_2, \\phi_2, \\lambda_2$ such that when in the circuits two \"?\" gates are replaced with $U3(\\theta_1, \\phi_1, \\lambda_1)$ and $U3(\\theta_2, \\phi_2, \\lambda_2)$, the circuit is equivalent to a Toffoli gate."
   ]
  },
  {
   "cell_type": "markdown",
   "id": "0657ed70-1ecf-4b59-822e-9ffe0429c029",
   "metadata": {},
   "source": [
    "## Solution method\n",
    "\n",
    "Let's insert gates $U3(\\theta_1, \\phi_1, \\lambda_1)$ and $U3(\\theta_2, \\phi_2, \\lambda_2)$ and compute unitary matrix of that circuit, denote it $U_c$. It will be a function of 6 parameters $\\mathbf{w}=(\\theta_1, \\phi_1, \\lambda_1, \\theta_2, \\phi_2, \\lambda_2)$. Now, we need to find such a value of parameter vector $\\mathbf{w}$ so that $U_c(\\mathbf{w})=U_{CCNOT}$, where $U_{CCNOT}$ is the matrix of the Toffoli gate.\n",
    "\n",
    "We can write this as optimization problem:\n",
    "\n",
    "$$ \\| U_c(\\mathbf{w}) - U_{CCNOT} \\| \\to \\underset{\\mathbf{w} \\in [0, 2\\pi]^6}{\\min}$$\n",
    "\n",
    "We chose optimization domain $[0, 2\\pi]^6$, because $U3$ is periodic in each parameter with period $2 \\pi$. For norm $\\|.\\|$ let's use L2-norm, i.e. sum of squares of absolute values of elements.\n",
    "\n",
    "Let's solve this optimization problem using the L-BFGS algorithm from SciPy. If we find argument $\\mathbf{w}$ which makes objective function equal to 0, that means we found the solution to the problem.\n",
    "\n",
    "We'll use Cirq to build circuit and find its unitary matrix."
   ]
  },
  {
   "cell_type": "markdown",
   "id": "65628a42-7c13-433c-a1eb-5da24a960540",
   "metadata": {},
   "source": [
    "## Solution"
   ]
  },
  {
   "cell_type": "code",
   "execution_count": 1,
   "id": "54eb84ed-501b-4a8a-a65f-bc5f9a736ed0",
   "metadata": {},
   "outputs": [
    {
     "name": "stdout",
     "output_type": "stream",
     "text": [
      "Objective: 4.550317086325e-12\n",
      "Converged: True\n",
      "Optimal parameters: [1.57079707 6.28318531 3.14159347 0.         2.1374513  3.36033484]\n",
      "Optimal parameters divided by pi: [0.50000024 2.         1.00000026 0.         0.68037188 1.0696278 ]\n"
     ]
    }
   ],
   "source": [
    "import cirq\n",
    "import numpy as np\n",
    "from scipy.optimize import minimize\n",
    "\n",
    "# Definition of U3 gate.\n",
    "def U3(theta, phi, lmbda):\n",
    "    return cirq.MatrixGate(np.array(\n",
    "        [[np.cos(theta/2), -np.exp(1j*lmbda)*np.sin(theta/2)], \n",
    "        [np.exp(1j*phi)*np.sin(theta/2), np.exp(1j*(phi+lmbda))*np.cos(theta/2)]]\n",
    "    ))\n",
    "\n",
    "# Definition of circuit.\n",
    "def circuit(params):\n",
    "    ct = cirq.Circuit()\n",
    "    q = cirq.LineQubit.range(3) \n",
    "    ct.append(cirq.T.on(q[0]))\n",
    "    ct.append(U3(params[0], params[1], params[2]).on(q[2]))\n",
    "    ct.append(cirq.CNOT.on(q[0], q[1]))\n",
    "    ct.append((cirq.T**-1).on(q[1]))\n",
    "    ct.append(cirq.CNOT.on(q[0], q[1]))\n",
    "    ct.append(cirq.T.on(q[1]))\n",
    "    ct.append(cirq.CNOT.on(q[1], q[2]))\n",
    "    ct.append((cirq.T**-1).on(q[2]))\n",
    "    ct.append(cirq.CNOT.on(q[0], q[2]))\n",
    "    ct.append(cirq.T.on(q[2]))\n",
    "    ct.append(cirq.CNOT.on(q[1], q[2]))\n",
    "    ct.append(U3(params[3], params[4], params[5]).on(q[2]))\n",
    "    ct.append(cirq.CNOT.on(q[0], q[2]))\n",
    "    ct.append(cirq.T.on(q[2]))\n",
    "    ct.append(cirq.H.on(q[2]))\n",
    "    return ct\n",
    "\n",
    "# Objective function to minimize.\n",
    "def f(params):\n",
    "    diff = cirq.unitary(circuit(params)) - cirq.unitary(cirq.CCNOT)\n",
    "    return np.sum(np.abs(diff)**2)\n",
    "\n",
    "\n",
    "bounds = [(0, 2*np.pi)] * 6\n",
    "np.random.seed(0)\n",
    "x0 = np.random.uniform(0, 2*np.pi, size=6)\n",
    "result = minimize(f, x0, bounds=bounds, method='L-BFGS-B')\n",
    "print(\"Objective:\", result.fun)\n",
    "print(\"Converged:\", result.success)\n",
    "print(\"Optimal parameters:\", result.x)\n",
    "print(\"Optimal parameters divided by pi:\", result.x/np.pi)"
   ]
  },
  {
   "cell_type": "markdown",
   "id": "93bcc88e-cc28-46e9-96a4-f5543b3edfb1",
   "metadata": {},
   "source": [
    "Solution is found!\n",
    "\n",
    "Let's look at the results and try writing them down as simply as possible, keeping in mind that these angles are periodic with period $2 \\pi$. \n",
    "\n",
    "We can see that $\\theta_1 = \\pi/2, \\phi_1 = 0, \\lambda_1 = \\pi, \\theta_2 = 0$.\n",
    "\n",
    "It seems like $\\phi_2$ and $\\lambda_2$ are not \"round\" numbers. However, when $\\theta_2=0$, $\\sin(\\frac{\\theta_2}{2})=0$, and $U3(\\theta_2, \\phi_2, \\lambda_2)$ doesn't depend on $\\phi_2$ and $\\lambda_2$ independently, but depends only on their sum. We see that $\\phi_2 + \\lambda_2 = 1.75 \\pi$, so we can take $\\phi_2 = - \\pi/4$ and $\\lambda_2=0$."
   ]
  },
  {
   "cell_type": "markdown",
   "id": "d9d65e09-563d-4bed-8500-3c6521f9fe5b",
   "metadata": {},
   "source": [
    "## Verification"
   ]
  },
  {
   "cell_type": "code",
   "execution_count": 2,
   "id": "94a92676-8959-4ea1-806a-5fc6964489d6",
   "metadata": {},
   "outputs": [
    {
     "name": "stdout",
     "output_type": "stream",
     "text": [
      "0: ───T─────────────────────────@──────────@──────────────────@─────────────────────────────────────────@───────────\n",
      "                                │          │                  │                                         │\n",
      "1: ─────────────────────────────X───T^-1───X───T───@──────────┼───────@─────────────────────────────────┼───────────\n",
      "                                                   │          │       │                                 │\n",
      "      ┌                     ┐                      │          │       │   ┌                         ┐   │\n",
      "2: ───│ 0.707+0.j  0.707-0.j│──────────────────────X───T^-1───X───T───X───│1.   +0.j    0.   -0.j   │───X───T───H───\n",
      "      │ 0.707+0.j -0.707+0.j│                                             │0.   +0.j    0.707-0.707j│\n",
      "      └                     ┘                                             └                         ┘\n",
      "OK\n"
     ]
    }
   ],
   "source": [
    "theta1, phi1, lambda1 =  np.pi/2, 0.0, np.pi\n",
    "theta2, phi2, lambda2 =  0.0, -np.pi/4, 0.0\n",
    "ct = circuit([theta1, phi1, lambda1, theta2, phi2, lambda2])\n",
    "print(ct)\n",
    "assert np.allclose(cirq.unitary(ct), cirq.unitary(cirq.CCNOT))\n",
    "print(\"OK\")"
   ]
  },
  {
   "cell_type": "markdown",
   "id": "916d8167-e1db-41ed-b233-80a883659ab3",
   "metadata": {},
   "source": [
    "## Answer\n",
    "\n",
    "The first gate is $U3(\\pi/2, 0, \\pi)$, the second gate is $U3(0, -\\pi/4, 0)$"
   ]
  }
 ],
 "metadata": {
  "kernelspec": {
   "display_name": "Python 3 (ipykernel)",
   "language": "python",
   "name": "python3"
  },
  "language_info": {
   "codemirror_mode": {
    "name": "ipython",
    "version": 3
   },
   "file_extension": ".py",
   "mimetype": "text/x-python",
   "name": "python",
   "nbconvert_exporter": "python",
   "pygments_lexer": "ipython3",
   "version": "3.12.3"
  }
 },
 "nbformat": 4,
 "nbformat_minor": 5
}
